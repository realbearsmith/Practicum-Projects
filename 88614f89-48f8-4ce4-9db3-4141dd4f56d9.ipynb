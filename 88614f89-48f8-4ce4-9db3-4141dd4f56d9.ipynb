{
 "cells": [
  {
   "cell_type": "markdown",
   "metadata": {},
   "source": [
    "## Review\n",
    "\n",
    "Hi Jared. My name is Soslan. I'm reviewing your project. I've added all my comments to new cells with different coloring.\n",
    "\n",
    "<div class=\"alert alert-success\" role=\"alert\">\n",
    "  If you did something great I'm using green color for my comment\n",
    "</div>\n",
    "\n",
    "<div class=\"alert alert-warning\" role=\"alert\">\n",
    "If I want to give you advice or think that something can be improved, then I'll use yellow. This is an optional recommendation.\n",
    "</div>\n",
    "\n",
    "<div class=\"alert alert-danger\" role=\"alert\">\n",
    "  If the topic requires some extra work so I can accept it then the color will be red\n",
    "</div>\n",
    "\n",
    "You did a good quality project. All checkpoints were done correctly. Your code and conclusions are well formatted. So I'm accepting your project. Good luck with future learning.\n",
    "\n",
    "---"
   ]
  },
  {
   "cell_type": "markdown",
   "metadata": {},
   "source": [
    "## Analyzing borrowers’ risk of defaulting\n",
    "\n",
    "Your project is to prepare a report for a bank’s loan division. You’ll need to find out if a customer’s marital status and number of children has an impact on whether they will default on a loan. The bank already has some data on customers’ credit worthiness.\n",
    "\n",
    "Your report will be considered when building a **credit scoring** of a potential customer. A ** credit scoring ** is used to evaluate the ability of a potential borrower to repay their loan."
   ]
  },
  {
   "cell_type": "markdown",
   "metadata": {},
   "source": [
    "### Step 1. Open the data file and have a look at the general information. "
   ]
  },
  {
   "cell_type": "code",
   "execution_count": 2,
   "metadata": {
    "scrolled": false
   },
   "outputs": [
    {
     "name": "stdout",
     "output_type": "stream",
     "text": [
      "<class 'pandas.core.frame.DataFrame'>\n",
      "RangeIndex: 21525 entries, 0 to 21524\n",
      "Data columns (total 12 columns):\n",
      "children            21525 non-null int64\n",
      "days_employed       19351 non-null float64\n",
      "dob_years           21525 non-null int64\n",
      "education           21525 non-null object\n",
      "education_id        21525 non-null int64\n",
      "family_status       21525 non-null object\n",
      "family_status_id    21525 non-null int64\n",
      "gender              21525 non-null object\n",
      "income_type         21525 non-null object\n",
      "debt                21525 non-null int64\n",
      "total_income        19351 non-null float64\n",
      "purpose             21525 non-null object\n",
      "dtypes: float64(2), int64(5), object(5)\n",
      "memory usage: 2.0+ MB\n"
     ]
    },
    {
     "data": {
      "text/html": [
       "<div>\n",
       "<style scoped>\n",
       "    .dataframe tbody tr th:only-of-type {\n",
       "        vertical-align: middle;\n",
       "    }\n",
       "\n",
       "    .dataframe tbody tr th {\n",
       "        vertical-align: top;\n",
       "    }\n",
       "\n",
       "    .dataframe thead th {\n",
       "        text-align: right;\n",
       "    }\n",
       "</style>\n",
       "<table border=\"1\" class=\"dataframe\">\n",
       "  <thead>\n",
       "    <tr style=\"text-align: right;\">\n",
       "      <th></th>\n",
       "      <th>children</th>\n",
       "      <th>days_employed</th>\n",
       "      <th>dob_years</th>\n",
       "      <th>education</th>\n",
       "      <th>education_id</th>\n",
       "      <th>family_status</th>\n",
       "      <th>family_status_id</th>\n",
       "      <th>gender</th>\n",
       "      <th>income_type</th>\n",
       "      <th>debt</th>\n",
       "      <th>total_income</th>\n",
       "      <th>purpose</th>\n",
       "    </tr>\n",
       "  </thead>\n",
       "  <tbody>\n",
       "    <tr>\n",
       "      <td>0</td>\n",
       "      <td>1</td>\n",
       "      <td>-8437.673028</td>\n",
       "      <td>42</td>\n",
       "      <td>bachelor's degree</td>\n",
       "      <td>0</td>\n",
       "      <td>married</td>\n",
       "      <td>0</td>\n",
       "      <td>F</td>\n",
       "      <td>employee</td>\n",
       "      <td>0</td>\n",
       "      <td>40620.102</td>\n",
       "      <td>purchase of the house</td>\n",
       "    </tr>\n",
       "    <tr>\n",
       "      <td>1</td>\n",
       "      <td>1</td>\n",
       "      <td>-4024.803754</td>\n",
       "      <td>36</td>\n",
       "      <td>secondary education</td>\n",
       "      <td>1</td>\n",
       "      <td>married</td>\n",
       "      <td>0</td>\n",
       "      <td>F</td>\n",
       "      <td>employee</td>\n",
       "      <td>0</td>\n",
       "      <td>17932.802</td>\n",
       "      <td>car purchase</td>\n",
       "    </tr>\n",
       "    <tr>\n",
       "      <td>2</td>\n",
       "      <td>0</td>\n",
       "      <td>-5623.422610</td>\n",
       "      <td>33</td>\n",
       "      <td>Secondary Education</td>\n",
       "      <td>1</td>\n",
       "      <td>married</td>\n",
       "      <td>0</td>\n",
       "      <td>M</td>\n",
       "      <td>employee</td>\n",
       "      <td>0</td>\n",
       "      <td>23341.752</td>\n",
       "      <td>purchase of the house</td>\n",
       "    </tr>\n",
       "    <tr>\n",
       "      <td>3</td>\n",
       "      <td>3</td>\n",
       "      <td>-4124.747207</td>\n",
       "      <td>32</td>\n",
       "      <td>secondary education</td>\n",
       "      <td>1</td>\n",
       "      <td>married</td>\n",
       "      <td>0</td>\n",
       "      <td>M</td>\n",
       "      <td>employee</td>\n",
       "      <td>0</td>\n",
       "      <td>42820.568</td>\n",
       "      <td>supplementary education</td>\n",
       "    </tr>\n",
       "    <tr>\n",
       "      <td>4</td>\n",
       "      <td>0</td>\n",
       "      <td>340266.072047</td>\n",
       "      <td>53</td>\n",
       "      <td>secondary education</td>\n",
       "      <td>1</td>\n",
       "      <td>civil partnership</td>\n",
       "      <td>1</td>\n",
       "      <td>F</td>\n",
       "      <td>retiree</td>\n",
       "      <td>0</td>\n",
       "      <td>25378.572</td>\n",
       "      <td>to have a wedding</td>\n",
       "    </tr>\n",
       "    <tr>\n",
       "      <td>...</td>\n",
       "      <td>...</td>\n",
       "      <td>...</td>\n",
       "      <td>...</td>\n",
       "      <td>...</td>\n",
       "      <td>...</td>\n",
       "      <td>...</td>\n",
       "      <td>...</td>\n",
       "      <td>...</td>\n",
       "      <td>...</td>\n",
       "      <td>...</td>\n",
       "      <td>...</td>\n",
       "      <td>...</td>\n",
       "    </tr>\n",
       "    <tr>\n",
       "      <td>21520</td>\n",
       "      <td>1</td>\n",
       "      <td>-4529.316663</td>\n",
       "      <td>43</td>\n",
       "      <td>secondary education</td>\n",
       "      <td>1</td>\n",
       "      <td>civil partnership</td>\n",
       "      <td>1</td>\n",
       "      <td>F</td>\n",
       "      <td>business</td>\n",
       "      <td>0</td>\n",
       "      <td>35966.698</td>\n",
       "      <td>housing transactions</td>\n",
       "    </tr>\n",
       "    <tr>\n",
       "      <td>21521</td>\n",
       "      <td>0</td>\n",
       "      <td>343937.404131</td>\n",
       "      <td>67</td>\n",
       "      <td>secondary education</td>\n",
       "      <td>1</td>\n",
       "      <td>married</td>\n",
       "      <td>0</td>\n",
       "      <td>F</td>\n",
       "      <td>retiree</td>\n",
       "      <td>0</td>\n",
       "      <td>24959.969</td>\n",
       "      <td>purchase of a car</td>\n",
       "    </tr>\n",
       "    <tr>\n",
       "      <td>21522</td>\n",
       "      <td>1</td>\n",
       "      <td>-2113.346888</td>\n",
       "      <td>38</td>\n",
       "      <td>secondary education</td>\n",
       "      <td>1</td>\n",
       "      <td>civil partnership</td>\n",
       "      <td>1</td>\n",
       "      <td>M</td>\n",
       "      <td>employee</td>\n",
       "      <td>1</td>\n",
       "      <td>14347.610</td>\n",
       "      <td>property</td>\n",
       "    </tr>\n",
       "    <tr>\n",
       "      <td>21523</td>\n",
       "      <td>3</td>\n",
       "      <td>-3112.481705</td>\n",
       "      <td>38</td>\n",
       "      <td>secondary education</td>\n",
       "      <td>1</td>\n",
       "      <td>married</td>\n",
       "      <td>0</td>\n",
       "      <td>M</td>\n",
       "      <td>employee</td>\n",
       "      <td>1</td>\n",
       "      <td>39054.888</td>\n",
       "      <td>buying my own car</td>\n",
       "    </tr>\n",
       "    <tr>\n",
       "      <td>21524</td>\n",
       "      <td>2</td>\n",
       "      <td>-1984.507589</td>\n",
       "      <td>40</td>\n",
       "      <td>secondary education</td>\n",
       "      <td>1</td>\n",
       "      <td>married</td>\n",
       "      <td>0</td>\n",
       "      <td>F</td>\n",
       "      <td>employee</td>\n",
       "      <td>0</td>\n",
       "      <td>13127.587</td>\n",
       "      <td>to buy a car</td>\n",
       "    </tr>\n",
       "  </tbody>\n",
       "</table>\n",
       "<p>21525 rows × 12 columns</p>\n",
       "</div>"
      ],
      "text/plain": [
       "       children  days_employed  dob_years            education  education_id  \\\n",
       "0             1   -8437.673028         42    bachelor's degree             0   \n",
       "1             1   -4024.803754         36  secondary education             1   \n",
       "2             0   -5623.422610         33  Secondary Education             1   \n",
       "3             3   -4124.747207         32  secondary education             1   \n",
       "4             0  340266.072047         53  secondary education             1   \n",
       "...         ...            ...        ...                  ...           ...   \n",
       "21520         1   -4529.316663         43  secondary education             1   \n",
       "21521         0  343937.404131         67  secondary education             1   \n",
       "21522         1   -2113.346888         38  secondary education             1   \n",
       "21523         3   -3112.481705         38  secondary education             1   \n",
       "21524         2   -1984.507589         40  secondary education             1   \n",
       "\n",
       "           family_status  family_status_id gender income_type  debt  \\\n",
       "0                married                 0      F    employee     0   \n",
       "1                married                 0      F    employee     0   \n",
       "2                married                 0      M    employee     0   \n",
       "3                married                 0      M    employee     0   \n",
       "4      civil partnership                 1      F     retiree     0   \n",
       "...                  ...               ...    ...         ...   ...   \n",
       "21520  civil partnership                 1      F    business     0   \n",
       "21521            married                 0      F     retiree     0   \n",
       "21522  civil partnership                 1      M    employee     1   \n",
       "21523            married                 0      M    employee     1   \n",
       "21524            married                 0      F    employee     0   \n",
       "\n",
       "       total_income                  purpose  \n",
       "0         40620.102    purchase of the house  \n",
       "1         17932.802             car purchase  \n",
       "2         23341.752    purchase of the house  \n",
       "3         42820.568  supplementary education  \n",
       "4         25378.572        to have a wedding  \n",
       "...             ...                      ...  \n",
       "21520     35966.698     housing transactions  \n",
       "21521     24959.969        purchase of a car  \n",
       "21522     14347.610                 property  \n",
       "21523     39054.888        buying my own car  \n",
       "21524     13127.587             to buy a car  \n",
       "\n",
       "[21525 rows x 12 columns]"
      ]
     },
     "execution_count": 2,
     "metadata": {},
     "output_type": "execute_result"
    }
   ],
   "source": [
    "import pandas as pd\n",
    "data = pd.read_csv('/datasets/credit_scoring_eng.csv')\n",
    "data.info()\n",
    "data"
   ]
  },
  {
   "cell_type": "markdown",
   "metadata": {},
   "source": [
    "### Conclusion"
   ]
  },
  {
   "cell_type": "markdown",
   "metadata": {},
   "source": [
    "Lots of missing info in days_employed and in total_income."
   ]
  },
  {
   "cell_type": "markdown",
   "metadata": {},
   "source": [
    "<div class=\"alert alert-success\" role=\"alert\">\n",
    "Correct</div>"
   ]
  },
  {
   "cell_type": "markdown",
   "metadata": {},
   "source": [
    "### Step 2. Data preprocessing"
   ]
  },
  {
   "cell_type": "markdown",
   "metadata": {},
   "source": [
    "### Processing missing values"
   ]
  },
  {
   "cell_type": "code",
   "execution_count": 3,
   "metadata": {
    "scrolled": true
   },
   "outputs": [
    {
     "name": "stdout",
     "output_type": "stream",
     "text": [
      "<class 'pandas.core.frame.DataFrame'>\n",
      "RangeIndex: 19351 entries, 0 to 19350\n",
      "Data columns (total 12 columns):\n",
      "children            19351 non-null int64\n",
      "days_employed       19351 non-null float64\n",
      "dob_years           19351 non-null int64\n",
      "education           19351 non-null object\n",
      "education_id        19351 non-null int64\n",
      "family_status       19351 non-null object\n",
      "family_status_id    19351 non-null int64\n",
      "gender              19351 non-null object\n",
      "income_type         19351 non-null object\n",
      "debt                19351 non-null int64\n",
      "total_income        19351 non-null float64\n",
      "purpose             19351 non-null object\n",
      "dtypes: float64(2), int64(5), object(5)\n",
      "memory usage: 1.8+ MB\n"
     ]
    }
   ],
   "source": [
    "data = data.dropna(subset = ['days_employed', 'total_income']).reset_index(drop = True)\n",
    "data.info()"
   ]
  },
  {
   "cell_type": "markdown",
   "metadata": {},
   "source": [
    "### Conclusion\n",
    "\n",
    "Dropped rows with missing values in days_employed and total_income. These may be due to individuals being unemployed, or could be a result of input error."
   ]
  },
  {
   "cell_type": "markdown",
   "metadata": {},
   "source": [
    "<div class=\"alert alert-success\" role=\"alert\">\n",
    "Ok. Seems reasonable</div>"
   ]
  },
  {
   "cell_type": "markdown",
   "metadata": {},
   "source": []
  },
  {
   "cell_type": "markdown",
   "metadata": {},
   "source": [
    "### Data type replacement"
   ]
  },
  {
   "cell_type": "code",
   "execution_count": 4,
   "metadata": {
    "scrolled": true
   },
   "outputs": [
    {
     "name": "stdout",
     "output_type": "stream",
     "text": [
      "<class 'pandas.core.frame.DataFrame'>\n",
      "RangeIndex: 19351 entries, 0 to 19350\n",
      "Data columns (total 12 columns):\n",
      "children            19351 non-null int64\n",
      "days_employed       19351 non-null int64\n",
      "dob_years           19351 non-null int64\n",
      "education           19351 non-null object\n",
      "education_id        19351 non-null int64\n",
      "family_status       19351 non-null object\n",
      "family_status_id    19351 non-null int64\n",
      "gender              19351 non-null object\n",
      "income_type         19351 non-null object\n",
      "debt                19351 non-null int64\n",
      "total_income        19351 non-null float64\n",
      "purpose             19351 non-null object\n",
      "dtypes: float64(1), int64(6), object(5)\n",
      "memory usage: 1.8+ MB\n"
     ]
    }
   ],
   "source": [
    "data['days_employed'] = data['days_employed'].astype(int)\n",
    "data.info()"
   ]
  },
  {
   "cell_type": "markdown",
   "metadata": {},
   "source": [
    "### Conclusion\n",
    "\n",
    "Changed days_employed to an integer usint .astype method. We don't need to know someone's tenure down to the second."
   ]
  },
  {
   "cell_type": "markdown",
   "metadata": {},
   "source": []
  },
  {
   "cell_type": "markdown",
   "metadata": {},
   "source": [
    "### Processing duplicates"
   ]
  },
  {
   "cell_type": "code",
   "execution_count": 5,
   "metadata": {},
   "outputs": [
    {
     "name": "stdout",
     "output_type": "stream",
     "text": [
      "|          children| 19344     |\n",
      "|     days_employed| 10265     |\n",
      "|         dob_years| 19293     |\n",
      "|         education| 19346     |\n",
      "|      education_id| 19346     |\n",
      "|     family_status| 19346     |\n",
      "|  family_status_id| 19346     |\n",
      "|            gender| 19348     |\n",
      "|       income_type| 19343     |\n",
      "|              debt| 19349     |\n",
      "|      total_income| 3         |\n",
      "|           purpose| 19313     |\n"
     ]
    }
   ],
   "source": [
    "data['children'] = data['children'].abs()\n",
    "data['days_employed'] = data['days_employed'].abs()\n",
    "data['dob_years'] = data['dob_years'].abs()\n",
    "data['education'] = data['education'].str.lower()\n",
    "data['education_id'] = data['education_id'].abs()\n",
    "data['family_status'] = data['family_status'].str.lower()\n",
    "data['family_status_id'] = data['family_status_id'].abs()\n",
    "data['gender'] = data['gender'].str.upper()\n",
    "data['income_type'] = data['income_type'].str.lower()\n",
    "data['debt'] = data['debt'].abs()\n",
    "data['total_income'] = data['total_income'].abs()\n",
    "data['purpose'] = data['purpose'].str.lower()\n",
    "\n",
    "for row in data:\n",
    "    print('|{: >18}|'.format(row), '{: <10}|'.format(data[row].duplicated().sum()))"
   ]
  },
  {
   "cell_type": "code",
   "execution_count": 6,
   "metadata": {},
   "outputs": [
    {
     "name": "stdout",
     "output_type": "stream",
     "text": [
      "<class 'pandas.core.frame.DataFrame'>\n",
      "RangeIndex: 19351 entries, 0 to 19350\n",
      "Data columns (total 12 columns):\n",
      "children            19351 non-null int64\n",
      "days_employed       19351 non-null int64\n",
      "dob_years           19351 non-null int64\n",
      "education           19351 non-null object\n",
      "education_id        19351 non-null int64\n",
      "family_status       19351 non-null object\n",
      "family_status_id    19351 non-null int64\n",
      "gender              19351 non-null object\n",
      "income_type         19351 non-null object\n",
      "debt                19351 non-null int64\n",
      "total_income        19351 non-null float64\n",
      "purpose             19351 non-null object\n",
      "dtypes: float64(1), int64(6), object(5)\n",
      "memory usage: 1.8+ MB\n"
     ]
    }
   ],
   "source": [
    "data.info()"
   ]
  },
  {
   "cell_type": "code",
   "execution_count": 7,
   "metadata": {},
   "outputs": [
    {
     "data": {
      "text/plain": [
       "17312.717    2\n",
       "31791.384    2\n",
       "42413.096    2\n",
       "54857.666    1\n",
       "26935.722    1\n",
       "            ..\n",
       "48796.341    1\n",
       "34774.610    1\n",
       "15710.698    1\n",
       "19232.334    1\n",
       "9591.824     1\n",
       "Name: total_income, Length: 19348, dtype: int64"
      ]
     },
     "execution_count": 7,
     "metadata": {},
     "output_type": "execute_result"
    }
   ],
   "source": [
    "data['total_income'].value_counts()"
   ]
  },
  {
   "cell_type": "code",
   "execution_count": 8,
   "metadata": {},
   "outputs": [
    {
     "data": {
      "text/html": [
       "<div>\n",
       "<style scoped>\n",
       "    .dataframe tbody tr th:only-of-type {\n",
       "        vertical-align: middle;\n",
       "    }\n",
       "\n",
       "    .dataframe tbody tr th {\n",
       "        vertical-align: top;\n",
       "    }\n",
       "\n",
       "    .dataframe thead th {\n",
       "        text-align: right;\n",
       "    }\n",
       "</style>\n",
       "<table border=\"1\" class=\"dataframe\">\n",
       "  <thead>\n",
       "    <tr style=\"text-align: right;\">\n",
       "      <th></th>\n",
       "      <th>children</th>\n",
       "      <th>days_employed</th>\n",
       "      <th>dob_years</th>\n",
       "      <th>education</th>\n",
       "      <th>education_id</th>\n",
       "      <th>family_status</th>\n",
       "      <th>family_status_id</th>\n",
       "      <th>gender</th>\n",
       "      <th>income_type</th>\n",
       "      <th>debt</th>\n",
       "      <th>total_income</th>\n",
       "      <th>purpose</th>\n",
       "    </tr>\n",
       "  </thead>\n",
       "  <tbody>\n",
       "    <tr>\n",
       "      <td>5734</td>\n",
       "      <td>0</td>\n",
       "      <td>353726</td>\n",
       "      <td>57</td>\n",
       "      <td>secondary education</td>\n",
       "      <td>1</td>\n",
       "      <td>widow / widower</td>\n",
       "      <td>2</td>\n",
       "      <td>F</td>\n",
       "      <td>retiree</td>\n",
       "      <td>0</td>\n",
       "      <td>17312.717</td>\n",
       "      <td>to become educated</td>\n",
       "    </tr>\n",
       "    <tr>\n",
       "      <td>18447</td>\n",
       "      <td>1</td>\n",
       "      <td>4616</td>\n",
       "      <td>35</td>\n",
       "      <td>bachelor's degree</td>\n",
       "      <td>0</td>\n",
       "      <td>civil partnership</td>\n",
       "      <td>1</td>\n",
       "      <td>M</td>\n",
       "      <td>business</td>\n",
       "      <td>0</td>\n",
       "      <td>17312.717</td>\n",
       "      <td>wedding ceremony</td>\n",
       "    </tr>\n",
       "  </tbody>\n",
       "</table>\n",
       "</div>"
      ],
      "text/plain": [
       "       children  days_employed  dob_years            education  education_id  \\\n",
       "5734          0         353726         57  secondary education             1   \n",
       "18447         1           4616         35    bachelor's degree             0   \n",
       "\n",
       "           family_status  family_status_id gender income_type  debt  \\\n",
       "5734     widow / widower                 2      F     retiree     0   \n",
       "18447  civil partnership                 1      M    business     0   \n",
       "\n",
       "       total_income             purpose  \n",
       "5734      17312.717  to become educated  \n",
       "18447     17312.717    wedding ceremony  "
      ]
     },
     "execution_count": 8,
     "metadata": {},
     "output_type": "execute_result"
    }
   ],
   "source": [
    "data[data['total_income'] == 17312.717]"
   ]
  },
  {
   "cell_type": "code",
   "execution_count": 9,
   "metadata": {},
   "outputs": [
    {
     "data": {
      "text/html": [
       "<div>\n",
       "<style scoped>\n",
       "    .dataframe tbody tr th:only-of-type {\n",
       "        vertical-align: middle;\n",
       "    }\n",
       "\n",
       "    .dataframe tbody tr th {\n",
       "        vertical-align: top;\n",
       "    }\n",
       "\n",
       "    .dataframe thead th {\n",
       "        text-align: right;\n",
       "    }\n",
       "</style>\n",
       "<table border=\"1\" class=\"dataframe\">\n",
       "  <thead>\n",
       "    <tr style=\"text-align: right;\">\n",
       "      <th></th>\n",
       "      <th>children</th>\n",
       "      <th>days_employed</th>\n",
       "      <th>dob_years</th>\n",
       "      <th>education</th>\n",
       "      <th>education_id</th>\n",
       "      <th>family_status</th>\n",
       "      <th>family_status_id</th>\n",
       "      <th>gender</th>\n",
       "      <th>income_type</th>\n",
       "      <th>debt</th>\n",
       "      <th>total_income</th>\n",
       "      <th>purpose</th>\n",
       "    </tr>\n",
       "  </thead>\n",
       "  <tbody>\n",
       "    <tr>\n",
       "      <td>9324</td>\n",
       "      <td>1</td>\n",
       "      <td>1723</td>\n",
       "      <td>44</td>\n",
       "      <td>secondary education</td>\n",
       "      <td>1</td>\n",
       "      <td>civil partnership</td>\n",
       "      <td>1</td>\n",
       "      <td>M</td>\n",
       "      <td>employee</td>\n",
       "      <td>0</td>\n",
       "      <td>31791.384</td>\n",
       "      <td>to have a wedding</td>\n",
       "    </tr>\n",
       "    <tr>\n",
       "      <td>18120</td>\n",
       "      <td>0</td>\n",
       "      <td>1028</td>\n",
       "      <td>51</td>\n",
       "      <td>secondary education</td>\n",
       "      <td>1</td>\n",
       "      <td>married</td>\n",
       "      <td>0</td>\n",
       "      <td>F</td>\n",
       "      <td>employee</td>\n",
       "      <td>0</td>\n",
       "      <td>31791.384</td>\n",
       "      <td>property</td>\n",
       "    </tr>\n",
       "  </tbody>\n",
       "</table>\n",
       "</div>"
      ],
      "text/plain": [
       "       children  days_employed  dob_years            education  education_id  \\\n",
       "9324          1           1723         44  secondary education             1   \n",
       "18120         0           1028         51  secondary education             1   \n",
       "\n",
       "           family_status  family_status_id gender income_type  debt  \\\n",
       "9324   civil partnership                 1      M    employee     0   \n",
       "18120            married                 0      F    employee     0   \n",
       "\n",
       "       total_income            purpose  \n",
       "9324      31791.384  to have a wedding  \n",
       "18120     31791.384           property  "
      ]
     },
     "execution_count": 9,
     "metadata": {},
     "output_type": "execute_result"
    }
   ],
   "source": [
    "data[data['total_income'] == 31791.384]"
   ]
  },
  {
   "cell_type": "code",
   "execution_count": 10,
   "metadata": {},
   "outputs": [
    {
     "data": {
      "text/html": [
       "<div>\n",
       "<style scoped>\n",
       "    .dataframe tbody tr th:only-of-type {\n",
       "        vertical-align: middle;\n",
       "    }\n",
       "\n",
       "    .dataframe tbody tr th {\n",
       "        vertical-align: top;\n",
       "    }\n",
       "\n",
       "    .dataframe thead th {\n",
       "        text-align: right;\n",
       "    }\n",
       "</style>\n",
       "<table border=\"1\" class=\"dataframe\">\n",
       "  <thead>\n",
       "    <tr style=\"text-align: right;\">\n",
       "      <th></th>\n",
       "      <th>children</th>\n",
       "      <th>days_employed</th>\n",
       "      <th>dob_years</th>\n",
       "      <th>education</th>\n",
       "      <th>education_id</th>\n",
       "      <th>family_status</th>\n",
       "      <th>family_status_id</th>\n",
       "      <th>gender</th>\n",
       "      <th>income_type</th>\n",
       "      <th>debt</th>\n",
       "      <th>total_income</th>\n",
       "      <th>purpose</th>\n",
       "    </tr>\n",
       "  </thead>\n",
       "  <tbody>\n",
       "    <tr>\n",
       "      <td>5985</td>\n",
       "      <td>0</td>\n",
       "      <td>417</td>\n",
       "      <td>48</td>\n",
       "      <td>bachelor's degree</td>\n",
       "      <td>0</td>\n",
       "      <td>married</td>\n",
       "      <td>0</td>\n",
       "      <td>F</td>\n",
       "      <td>business</td>\n",
       "      <td>0</td>\n",
       "      <td>42413.096</td>\n",
       "      <td>getting higher education</td>\n",
       "    </tr>\n",
       "    <tr>\n",
       "      <td>7576</td>\n",
       "      <td>0</td>\n",
       "      <td>371001</td>\n",
       "      <td>56</td>\n",
       "      <td>secondary education</td>\n",
       "      <td>1</td>\n",
       "      <td>unmarried</td>\n",
       "      <td>4</td>\n",
       "      <td>M</td>\n",
       "      <td>retiree</td>\n",
       "      <td>0</td>\n",
       "      <td>42413.096</td>\n",
       "      <td>real estate transactions</td>\n",
       "    </tr>\n",
       "  </tbody>\n",
       "</table>\n",
       "</div>"
      ],
      "text/plain": [
       "      children  days_employed  dob_years            education  education_id  \\\n",
       "5985         0            417         48    bachelor's degree             0   \n",
       "7576         0         371001         56  secondary education             1   \n",
       "\n",
       "     family_status  family_status_id gender income_type  debt  total_income  \\\n",
       "5985       married                 0      F    business     0     42413.096   \n",
       "7576     unmarried                 4      M     retiree     0     42413.096   \n",
       "\n",
       "                       purpose  \n",
       "5985  getting higher education  \n",
       "7576  real estate transactions  "
      ]
     },
     "execution_count": 10,
     "metadata": {},
     "output_type": "execute_result"
    }
   ],
   "source": [
    "data[data['total_income'] == 42413.096]"
   ]
  },
  {
   "cell_type": "code",
   "execution_count": 11,
   "metadata": {},
   "outputs": [
    {
     "data": {
      "text/plain": [
       "0     12710\n",
       "1      4387\n",
       "2      1851\n",
       "3       294\n",
       "20       67\n",
       "4        34\n",
       "5         8\n",
       "Name: children, dtype: int64"
      ]
     },
     "execution_count": 11,
     "metadata": {},
     "output_type": "execute_result"
    }
   ],
   "source": [
    "data['children'].value_counts()"
   ]
  },
  {
   "cell_type": "markdown",
   "metadata": {},
   "source": [
    "<div class=\"alert alert-warning\" role=\"alert\">\n",
    "67 persons with 20 children also looks a bit weird.</div>"
   ]
  },
  {
   "cell_type": "code",
   "execution_count": 12,
   "metadata": {},
   "outputs": [
    {
     "data": {
      "text/plain": [
       "wedding ceremony                            721\n",
       "to have a wedding                           693\n",
       "having a wedding                            685\n",
       "real estate transactions                    615\n",
       "buy commercial real estate                  597\n",
       "purchase of the house                       595\n",
       "buying property for renting out             588\n",
       "housing                                     587\n",
       "transactions with commercial real estate    581\n",
       "building a real estate                      580\n",
       "housing transactions                        579\n",
       "purchase of my own house                    574\n",
       "property                                    572\n",
       "purchase of the house for my family         570\n",
       "building a property                         561\n",
       "construction of own property                560\n",
       "transactions with my real estate            559\n",
       "buy real estate                             552\n",
       "buy residential real estate                 546\n",
       "housing renovation                          542\n",
       "car                                         454\n",
       "buying my own car                           452\n",
       "to buy a car                                442\n",
       "going to university                         440\n",
       "buying a second-hand car                    437\n",
       "second-hand car purchase                    435\n",
       "to own a car                                428\n",
       "cars                                        421\n",
       "car purchase                                419\n",
       "supplementary education                     414\n",
       "university education                        413\n",
       "purchase of a car                           409\n",
       "education                                   405\n",
       "to get a supplementary education            396\n",
       "getting an education                        393\n",
       "getting higher education                    390\n",
       "profile education                           389\n",
       "to become educated                          357\n",
       "Name: purpose, dtype: int64"
      ]
     },
     "execution_count": 12,
     "metadata": {},
     "output_type": "execute_result"
    }
   ],
   "source": [
    "data['purpose'].value_counts()"
   ]
  },
  {
   "cell_type": "code",
   "execution_count": 13,
   "metadata": {},
   "outputs": [
    {
     "name": "stdout",
     "output_type": "stream",
     "text": [
      "real estate    6311\n",
      "car            3897\n",
      "education      3597\n",
      "house          3447\n",
      "wedding        2099\n",
      "Name: stemmed_purpose, dtype: int64\n"
     ]
    }
   ],
   "source": [
    "from nltk.stem import SnowballStemmer\n",
    "english_stemmer=SnowballStemmer('english')\n",
    "words=['education','estate','car','property','wedding','house','housing','university']\n",
    "\n",
    "def stemming_purpose(row):\n",
    "    for word in row.split():\n",
    "        stemmed_word=english_stemmer.stem(word)\n",
    "        if stemmed_word=='estat' or stemmed_word=='properti':\n",
    "            return 'real estate'\n",
    "        if stemmed_word=='educ' or stemmed_word=='univers':\n",
    "            return 'education'\n",
    "        if stemmed_word=='car':\n",
    "            return 'car'\n",
    "        if stemmed_word=='hous':\n",
    "            return 'house'\n",
    "        if stemmed_word=='wed':\n",
    "            return 'wedding'\n",
    "\n",
    "data['stemmed_purpose']=data['purpose'].apply(stemming_purpose)\n",
    "print(data['stemmed_purpose'].value_counts())"
   ]
  },
  {
   "cell_type": "markdown",
   "metadata": {},
   "source": [
    "<div class=\"alert alert-warning\" role=\"alert\">\n",
    "I tried to execute your lemmatization code but it produces an error. Also, data_flipped wasn't defined. Anyway, categorization was done correctly.</div>\n"
   ]
  },
  {
   "cell_type": "markdown",
   "metadata": {},
   "source": [
    "### Conclusion\n",
    "\n",
    "Utilized value_counts function to assess the the frequency at which certain values were present, and looked for instances when values were identical but should not have been. Looked like total_income might have been a source of duplicates, but these individuals all had different other qualities indicating they are different people.\n",
    "\n",
    "Only real identified source of duplicates appeared to be purpose of the loan. I tried an excessive period of time to make tokenization/lemmatization work to figure out which words to stem but nearly lost my mind doing so.\n",
    "\n",
    "Side note - 20 children seems unlikely. My initial thought was that these were likely errors meant to be 2, not 20. However, I don't want to assume what the data say if I don't know that this is true."
   ]
  },
  {
   "cell_type": "markdown",
   "metadata": {},
   "source": []
  },
  {
   "cell_type": "markdown",
   "metadata": {},
   "source": [
    "### Categorizing Data"
   ]
  },
  {
   "cell_type": "code",
   "execution_count": 14,
   "metadata": {
    "scrolled": true
   },
   "outputs": [
    {
     "name": "stdout",
     "output_type": "stream",
     "text": [
      "Minimum: 3306\n",
      "Median: 23202\n",
      "Maximum: 362496\n",
      "\n",
      "Mean: 26787\n",
      "Standard Deviation: 16475\n"
     ]
    }
   ],
   "source": [
    "data['total_income'] = data ['total_income'].astype(int)\n",
    "\n",
    "print('Minimum:',data['total_income'].min())\n",
    "print('Median:', data['total_income'].median().astype(int))\n",
    "print('Maximum:',data['total_income'].max())\n",
    "print('')\n",
    "print('Mean:', data['total_income'].mean().astype(int))\n",
    "print('Standard Deviation:', data['total_income'].std().astype(int))"
   ]
  },
  {
   "cell_type": "code",
   "execution_count": 15,
   "metadata": {},
   "outputs": [
    {
     "name": "stdout",
     "output_type": "stream",
     "text": [
      "3306\n",
      "19781\n",
      "36256\n",
      "52731\n",
      "69206\n",
      "85681\n",
      "102156\n",
      "118631\n",
      "135106\n",
      "151581\n",
      "168056\n",
      "184531\n",
      "201006\n",
      "217481\n",
      "233956\n"
     ]
    }
   ],
   "source": [
    "devs = [1, 2, 3, 4, 5, 1, 2, 3, 4, 5, 1, 2, 3, 4, 5]\n",
    "minimum = 3306\n",
    "for num in devs:\n",
    "    print(minimum)\n",
    "    minimum += 16475\n",
    "    "
   ]
  },
  {
   "cell_type": "code",
   "execution_count": 16,
   "metadata": {},
   "outputs": [
    {
     "name": "stdout",
     "output_type": "stream",
     "text": [
      "lower middle income     8432\n",
      "low income              7225\n",
      "higher middle income    2588\n",
      "high income             1105\n",
      "Name: income_group, dtype: int64\n"
     ]
    }
   ],
   "source": [
    "def income_grouping(income):\n",
    "    if 3306 < income <= 19781:\n",
    "        return 'low income'\n",
    "    if 19781 < income <= 36256:\n",
    "        return 'lower middle income'\n",
    "    if 36256 < income <= 52731:\n",
    "        return 'higher middle income'\n",
    "    if 52731 < income:\n",
    "        return 'high income'\n",
    "    \n",
    "data['income_group'] = data['total_income'].apply(income_grouping)\n",
    "print(data['income_group'].value_counts())"
   ]
  },
  {
   "cell_type": "markdown",
   "metadata": {},
   "source": [
    "### Conclusion"
   ]
  },
  {
   "cell_type": "markdown",
   "metadata": {},
   "source": [
    "Categorized total income into income groups,"
   ]
  },
  {
   "cell_type": "markdown",
   "metadata": {},
   "source": [
    "<div class=\"alert alert-success\" role=\"alert\">\n",
    "Great</div>"
   ]
  },
  {
   "cell_type": "markdown",
   "metadata": {},
   "source": [
    "### Step 3. Answer these questions"
   ]
  },
  {
   "cell_type": "markdown",
   "metadata": {},
   "source": [
    "- Is there a relation between having kids and repaying a loan on time?"
   ]
  },
  {
   "cell_type": "code",
   "execution_count": 17,
   "metadata": {},
   "outputs": [
    {
     "name": "stdout",
     "output_type": "stream",
     "text": [
      "children\n",
      "0    0.074902\n",
      "1    0.093230\n",
      "2    0.095624\n",
      "3    0.074830\n",
      "4    0.088235\n",
      "5    0.000000\n",
      "Name: debt, dtype: float64\n"
     ]
    }
   ],
   "source": [
    "children_risk = data.query('children < 20').groupby('children')['debt'].mean()\n",
    "print(children_risk)"
   ]
  },
  {
   "cell_type": "markdown",
   "metadata": {},
   "source": [
    "### Conclusion\n",
    "\n",
    "- There is a slight bump in risk after having a child.\n",
    "- This risk does not appear to increase after having a second child.\n",
    "- Risk decreases after having a third child. This may be due to increased parent age/commensurate income, but could also be due to sample size variation.\n",
    "- Sample set of 4+ children is to small to take away a complete learning from.\n",
    "\n",
    "In sum: there may be a relation between having kids and repaying a loan on time. It appears that having children may create some hightened risk, but that these risks may dissipate over time/with additional children. More age/income data is needed to confirm this."
   ]
  },
  {
   "cell_type": "markdown",
   "metadata": {},
   "source": [
    "<div class=\"alert alert-success\" role=\"alert\">\n",
    "Correct</div>"
   ]
  },
  {
   "cell_type": "markdown",
   "metadata": {},
   "source": [
    "- Is there a relation between marital status and repaying a loan on time?"
   ]
  },
  {
   "cell_type": "code",
   "execution_count": 29,
   "metadata": {
    "scrolled": true
   },
   "outputs": [
    {
     "name": "stdout",
     "output_type": "stream",
     "text": [
      "family_status\n",
      "civil partnership    0.090763\n",
      "divorced             0.070175\n",
      "married              0.075922\n",
      "unmarried            0.100594\n",
      "widow / widower      0.064740\n",
      "Name: debt, dtype: float64\n"
     ]
    }
   ],
   "source": [
    "marital_risk = data.groupby('family_status')['debt'].mean()\n",
    "print(marital_risk)"
   ]
  },
  {
   "cell_type": "markdown",
   "metadata": {},
   "source": [
    "### Conclusion\n",
    "\n",
    "Being married or having been married appears to significantly lower risk of defaulting. Civil partnerships reduce risk slightly, but not as much as marriage."
   ]
  },
  {
   "cell_type": "markdown",
   "metadata": {},
   "source": [
    "<div class=\"alert alert-success\" role=\"alert\">\n",
    "Agree</div>"
   ]
  },
  {
   "cell_type": "markdown",
   "metadata": {},
   "source": [
    "- Is there a relation between income level and repaying a loan on time?"
   ]
  },
  {
   "cell_type": "code",
   "execution_count": 30,
   "metadata": {},
   "outputs": [
    {
     "name": "stdout",
     "output_type": "stream",
     "text": [
      "income_group\n",
      "high income             0.070588\n",
      "higher middle income    0.071097\n",
      "low income              0.081384\n",
      "lower middle income     0.085389\n",
      "Name: debt, dtype: float64\n"
     ]
    }
   ],
   "source": [
    "income_risk = data.groupby('income_group')['debt'].mean()\n",
    "print(income_risk)"
   ]
  },
  {
   "cell_type": "markdown",
   "metadata": {},
   "source": [
    "### Conclusion"
   ]
  },
  {
   "cell_type": "markdown",
   "metadata": {},
   "source": [
    "As expected, a higher level of income generally decreases one's risk of defaulting.\n",
    "\n",
    "However, there apears to be a spike in default rates when moving from low income applicants to lower middle income applicants. One theory may be that lower middle income applicants are pressured into a middle class lifestyle without the revenue to support it. It could also be a matter of not being poor enough to qualify for welfare while not being rich enough to fully support onesself.\n",
    "\n",
    "You could perform some additional computations outside the scope of this project to weight these results for other attributes like age and marital status to gain a full picture."
   ]
  },
  {
   "cell_type": "markdown",
   "metadata": {},
   "source": [
    "- How do different loan purposes affect on-time repayment of the loan?"
   ]
  },
  {
   "cell_type": "code",
   "execution_count": 31,
   "metadata": {},
   "outputs": [
    {
     "name": "stdout",
     "output_type": "stream",
     "text": [
      "stemmed_purpose\n",
      "car            0.094175\n",
      "education      0.092021\n",
      "house          0.068755\n",
      "real estate    0.075741\n",
      "wedding        0.075274\n",
      "Name: debt, dtype: float64\n"
     ]
    }
   ],
   "source": [
    "purpose_risk = data.groupby('stemmed_purpose')['debt'].mean()\n",
    "print(purpose_risk)"
   ]
  },
  {
   "cell_type": "markdown",
   "metadata": {},
   "source": [
    "### Conclusion\n",
    "\n",
    "It appears that family- or business-oriented debt (marriage, house, real estate) poses a lower risk than personal debt (cars, education, etc). Interestingly, real estate debt poses a higher risk than personal home mortgages. This may be due to the link between a business' profitability and its ability to pay its debts, while the individual's business success is less directly linked to their ability to pay debts."
   ]
  },
  {
   "cell_type": "markdown",
   "metadata": {},
   "source": [
    "<div class=\"alert alert-success\" role=\"alert\">\n",
    "Overall great section. Correct conclusions.</div>"
   ]
  },
  {
   "cell_type": "markdown",
   "metadata": {},
   "source": [
    "### Step 4. General conclusion"
   ]
  },
  {
   "cell_type": "markdown",
   "metadata": {},
   "source": [
    "Income appears to be the most accurate single predictor of default risk. Loan purpose also appears to be a decent predictor, and number of children/family status may be helful in conjunction with loan purpose and income.\n",
    "\n",
    "It appears that the lowest risk individuals are those who are or have been married, with middle-high level incomes, who are applying for home/retail/wedding loans. The highest risk individuals (outside of those with no income, no job), appear to be unmarried individuals in the second lowest quartile of earners, who have children.\n",
    "\n",
    "This generally is in line with macroeconomic principles of the power of marriage to financial stability, so the outcome does not appear absurd.\n",
    "\n",
    "As for the conclusion surrounding the product, I need to hit the books more on lemmatization for sure. I also struggled a bit in the preprocessing of data, specifically around knowing how to address missing or incorrect values. I think in a real world scenario, I would be able to access the person providing the data to dig into potential reasons. Guessing why data is messed up is not fun."
   ]
  },
  {
   "cell_type": "markdown",
   "metadata": {},
   "source": [
    "### Project Readiness Checklist\n",
    "\n",
    "Put 'x' in the completed points. Then press Shift + Enter."
   ]
  },
  {
   "cell_type": "markdown",
   "metadata": {},
   "source": [
    "- [x]  file open;\n",
    "- [x]  file examined;\n",
    "- [x]  missing values defined;\n",
    "- [x]  missing values are filled;\n",
    "- [x]  an explanation of which missing value types were detected;\n",
    "- [x]  explanation for the possible causes of missing values;\n",
    "- [x]  an explanation of how the blanks are filled;\n",
    "- [x]  replaced the real data type with an integer;\n",
    "- [x]  an explanation of which method is used to change the data type and why;\n",
    "- [x]  duplicates deleted;\n",
    "- [x]  an explanation of which method is used to find and remove duplicates;\n",
    "- [x]  description of the possible reasons for the appearance of duplicates in the data;\n",
    "- [x]  data is categorized;\n",
    "- [x]  an explanation of the principle of data categorization;\n",
    "- [x]  an answer to the question \"Is there a relation between having kids and repaying a loan on time?\";\n",
    "- [x]  an answer to the question \" Is there a relation between marital status and repaying a loan on time?\";\n",
    "- [x]   an answer to the question \" Is there a relation between income level and repaying a loan on time?\";\n",
    "- [x]  an answer to the question \" How do different loan purposes affect on-time repayment of the loan?\"\n",
    "- [x]  conclusions are present on each stage;\n",
    "- [x]  a general conclusion is made."
   ]
  },
  {
   "cell_type": "code",
   "execution_count": null,
   "metadata": {},
   "outputs": [],
   "source": []
  }
 ],
 "metadata": {
  "kernelspec": {
   "display_name": "Python 3",
   "language": "python",
   "name": "python3"
  },
  "language_info": {
   "codemirror_mode": {
    "name": "ipython",
    "version": 3
   },
   "file_extension": ".py",
   "mimetype": "text/x-python",
   "name": "python",
   "nbconvert_exporter": "python",
   "pygments_lexer": "ipython3",
   "version": "3.7.4"
  }
 },
 "nbformat": 4,
 "nbformat_minor": 2
}
